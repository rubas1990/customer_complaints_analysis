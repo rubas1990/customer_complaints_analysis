import pandas as pd
import numpy as np
from faker import Faker
fake = Faker()
np.random.seed(42)

num_records = 100_000
products = [f'Producto {i}' for i in range(1, 51)]
plants = [f'Planta {i}' for i in range(1, 11)]
complaint_types = ['Calidad', 'Entrega', 'Servicio', 'Empaque']

data = {
    'Fecha': [fake.date_between(start_date='-3y', end_date='today') for _ in range(num_records)],
    'Producto': np.random.choice(products, num_records),
    'Planta': np.random.choice(plants, num_records),
    'Tipo_Queja': np.random.choice(complaint_types, num_records),
    'Descripcion': [fake.sentence(nb_words=12) for _ in range(num_records)]
}

df = pd.DataFrame(data)
df.to_csv('data/complaints.csv', index=False)
print("✅ Datos generados en data/complaints.csv")
